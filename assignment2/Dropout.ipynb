{
 "cells": [
  {
   "cell_type": "markdown",
   "metadata": {},
   "source": [
    "# Dropout\n",
    "Dropout [1] is a technique for regularizing neural networks by randomly setting some features to zero during the forward pass. In this exercise you will implement a dropout layer and modify your fully-connected network to optionally use dropout.\n",
    "\n",
    "[1] Geoffrey E. Hinton et al, \"Improving neural networks by preventing co-adaptation of feature detectors\", arXiv 2012"
   ]
  },
  {
   "cell_type": "code",
   "execution_count": 1,
   "metadata": {
    "collapsed": false
   },
   "outputs": [],
   "source": [
    "# As usual, a bit of setup\n",
    "\n",
    "import time\n",
    "import numpy as np\n",
    "import matplotlib.pyplot as plt\n",
    "from cs231n.classifiers.fc_net import *\n",
    "from cs231n.data_utils import get_CIFAR10_data\n",
    "from cs231n.gradient_check import eval_numerical_gradient, eval_numerical_gradient_array\n",
    "from cs231n.solver import Solver\n",
    "\n",
    "%matplotlib inline\n",
    "plt.rcParams['figure.figsize'] = (10.0, 8.0) # set default size of plots\n",
    "plt.rcParams['image.interpolation'] = 'nearest'\n",
    "plt.rcParams['image.cmap'] = 'gray'\n",
    "\n",
    "# for auto-reloading external modules\n",
    "# see http://stackoverflow.com/questions/1907993/autoreload-of-modules-in-ipython\n",
    "%load_ext autoreload\n",
    "%autoreload 2\n",
    "\n",
    "def rel_error(x, y):\n",
    "  \"\"\" returns relative error \"\"\"\n",
    "  return np.max(np.abs(x - y) / (np.maximum(1e-8, np.abs(x) + np.abs(y))))"
   ]
  },
  {
   "cell_type": "code",
   "execution_count": 2,
   "metadata": {
    "collapsed": false
   },
   "outputs": [
    {
     "name": "stdout",
     "output_type": "stream",
     "text": [
      "X_val:  (1000, 3, 32, 32)\n",
      "X_train:  (49000, 3, 32, 32)\n",
      "X_test:  (1000, 3, 32, 32)\n",
      "y_val:  (1000,)\n",
      "y_train:  (49000,)\n",
      "y_test:  (1000,)\n"
     ]
    }
   ],
   "source": [
    "# Load the (preprocessed) CIFAR10 data.\n",
    "\n",
    "data = get_CIFAR10_data()\n",
    "for k, v in data.iteritems():\n",
    "  print '%s: ' % k, v.shape"
   ]
  },
  {
   "cell_type": "markdown",
   "metadata": {},
   "source": [
    "# Dropout forward pass\n",
    "In the file `cs231n/layers.py`, implement the forward pass for dropout. Since dropout behaves differently during training and testing, make sure to implement the operation for both modes.\n",
    "\n",
    "Once you have done so, run the cell below to test your implementation."
   ]
  },
  {
   "cell_type": "code",
   "execution_count": 60,
   "metadata": {
    "collapsed": false,
    "scrolled": true
   },
   "outputs": [
    {
     "name": "stdout",
     "output_type": "stream",
     "text": [
      "Running tests with p =  0.3\n",
      "Mean of input:  10.0026870597\n",
      "Mean of train-time output:  7.01334560445\n",
      "Mean of test-time output:  7.00188094182\n",
      "Fraction of train-time output set to zero:  0.299184\n",
      "Fraction of test-time output set to zero:  0.0\n",
      "\n",
      "Running tests with p =  0.6\n",
      "Mean of input:  10.0026870597\n",
      "Mean of train-time output:  4.01703214593\n",
      "Mean of test-time output:  4.0010748239\n",
      "Fraction of train-time output set to zero:  0.598492\n",
      "Fraction of test-time output set to zero:  0.0\n",
      "\n",
      "Running tests with p =  0.75\n",
      "Mean of input:  10.0026870597\n",
      "Mean of train-time output:  2.50489209239\n",
      "Mean of test-time output:  2.50067176494\n",
      "Fraction of train-time output set to zero:  0.749556\n",
      "Fraction of test-time output set to zero:  0.0\n",
      "\n"
     ]
    },
    {
     "name": "stderr",
     "output_type": "stream",
     "text": [
      "[autoreload of cs231n.classifiers.fc_net failed: Traceback (most recent call last):\n",
      "  File \"/Users/navarre/anaconda2/lib/python2.7/site-packages/IPython/extensions/autoreload.py\", line 247, in check\n",
      "    superreload(m, reload, self.old_objects)\n",
      "  File \"cs231n/classifiers/fc_net.py\", line 231\n",
      "    scores_zero, self.affine_cache[cache_name + '_zero'] =\n",
      "                                                         ^\n",
      "SyntaxError: invalid syntax\n",
      "]\n"
     ]
    }
   ],
   "source": [
    "x = np.random.randn(500, 500) + 10\n",
    "\n",
    "for p in [0.3, 0.6, 0.75]:\n",
    "  out, _ = dropout_forward(x, {'mode': 'train', 'p': p})\n",
    "  out_test, _ = dropout_forward(x, {'mode': 'test', 'p': p})\n",
    "\n",
    "  print 'Running tests with p = ', p\n",
    "  print 'Mean of input: ', x.mean()\n",
    "  print 'Mean of train-time output: ', out.mean()\n",
    "  print 'Mean of test-time output: ', out_test.mean()\n",
    "  print 'Fraction of train-time output set to zero: ', (out == 0).mean()\n",
    "  print 'Fraction of test-time output set to zero: ', (out_test == 0).mean()\n",
    "  print"
   ]
  },
  {
   "cell_type": "markdown",
   "metadata": {},
   "source": [
    "# Dropout backward pass\n",
    "In the file `cs231n/layers.py`, implement the backward pass for dropout. After doing so, run the following cell to numerically gradient-check your implementation."
   ]
  },
  {
   "cell_type": "code",
   "execution_count": 61,
   "metadata": {
    "collapsed": false
   },
   "outputs": [
    {
     "name": "stdout",
     "output_type": "stream",
     "text": [
      "dx relative error:  1.89289530543e-11\n"
     ]
    }
   ],
   "source": [
    "x = np.random.randn(10, 10) + 10\n",
    "dout = np.random.randn(*x.shape)\n",
    "\n",
    "dropout_param = {'mode': 'train', 'p': 0.8, 'seed': 123}\n",
    "out, cache = dropout_forward(x, dropout_param)\n",
    "dx = dropout_backward(dout, cache)\n",
    "dx_num = eval_numerical_gradient_array(lambda xx: dropout_forward(xx, dropout_param)[0], x, dout)\n",
    "\n",
    "print 'dx relative error: ', rel_error(dx, dx_num)"
   ]
  },
  {
   "cell_type": "markdown",
   "metadata": {},
   "source": [
    "# Fully-connected nets with Dropout\n",
    "In the file `cs231n/classifiers/fc_net.py`, modify your implementation to use dropout. Specificially, if the constructor the the net receives a nonzero value for the `dropout` parameter, then the net should add dropout immediately after every ReLU nonlinearity. After doing so, run the following to numerically gradient-check your implementation."
   ]
  },
  {
   "cell_type": "code",
   "execution_count": 62,
   "metadata": {
    "collapsed": false,
    "scrolled": true
   },
   "outputs": [
    {
     "name": "stdout",
     "output_type": "stream",
     "text": [
      "Running check with dropout =  0\n",
      "Initial loss:  2.3051948274\n",
      "W1 relative error: 2.53e-07\n",
      "W2 relative error: 1.50e-05\n",
      "W3 relative error: 2.75e-07\n",
      "b1 relative error: 2.94e-06\n",
      "b2 relative error: 5.05e-08\n",
      "b3 relative error: 1.17e-10\n",
      "\n",
      "Running check with dropout =  0.25\n",
      "Initial loss:  2.30404606692\n",
      "W1 relative error: 3.68e-07\n",
      "W2 relative error: 6.29e-07\n",
      "W3 relative error: 4.71e-08\n",
      "b1 relative error: 4.70e-08\n",
      "b2 relative error: 1.05e-08\n",
      "b3 relative error: 1.56e-10\n",
      "\n",
      "Running check with dropout =  0.5\n",
      "Initial loss:  2.30281816827\n",
      "W1 relative error: 1.36e-06\n",
      "W2 relative error: 3.00e-07\n",
      "W3 relative error: 4.23e-08\n",
      "b1 relative error: 3.13e-07\n",
      "b2 relative error: 2.62e-09\n",
      "b3 relative error: 6.76e-11\n",
      "\n"
     ]
    }
   ],
   "source": [
    "N, D, H1, H2, C = 2, 15, 20, 30, 10\n",
    "X = np.random.randn(N, D)\n",
    "y = np.random.randint(C, size=(N,))\n",
    "\n",
    "for dropout in [0, 0.25, 0.5]:\n",
    "  print 'Running check with dropout = ', dropout\n",
    "  model = FullyConnectedNet([H1, H2], input_dim=D, num_classes=C,\n",
    "                            weight_scale=5e-2, dtype=np.float64,\n",
    "                            dropout=dropout, seed=123)\n",
    "\n",
    "  loss, grads = model.loss(X, y)\n",
    "  print 'Initial loss: ', loss\n",
    "\n",
    "  for name in sorted(grads):\n",
    "    f = lambda _: model.loss(X, y)[0]\n",
    "    grad_num = eval_numerical_gradient(f, model.params[name], verbose=False, h=1e-5)\n",
    "    print '%s relative error: %.2e' % (name, rel_error(grad_num, grads[name]))\n",
    "  print"
   ]
  },
  {
   "cell_type": "markdown",
   "metadata": {},
   "source": [
    "# Regularization experiment\n",
    "As an experiment, we will train a pair of two-layer networks on 500 training examples: one will use no dropout, and one will use a dropout probability of 0.75. We will then visualize the training and validation accuracies of the two networks over time."
   ]
  },
  {
   "cell_type": "code",
   "execution_count": 82,
   "metadata": {
    "collapsed": false,
    "scrolled": false
   },
   "outputs": [
    {
     "name": "stdout",
     "output_type": "stream",
     "text": [
      "0\n",
      "(Iteration 1 / 125) loss: 7.193337\n",
      "(Epoch 0 / 25) train acc: 0.246000; val_acc: 0.181000\n"
     ]
    },
    {
     "name": "stderr",
     "output_type": "stream",
     "text": [
      "cs231n/layers.py:588: RuntimeWarning: divide by zero encountered in log\n",
      "  dx = probs.copy()\n"
     ]
    },
    {
     "name": "stdout",
     "output_type": "stream",
     "text": [
      "(Epoch 1 / 25) train acc: 0.398000; val_acc: 0.245000\n",
      "(Epoch 2 / 25) train acc: 0.518000; val_acc: 0.253000\n",
      "(Epoch 3 / 25) train acc: 0.580000; val_acc: 0.254000\n",
      "(Epoch 4 / 25) train acc: 0.726000; val_acc: 0.246000\n",
      "(Epoch 5 / 25) train acc: 0.702000; val_acc: 0.235000\n",
      "(Epoch 6 / 25) train acc: 0.776000; val_acc: 0.278000\n",
      "(Epoch 7 / 25) train acc: 0.820000; val_acc: 0.274000\n",
      "(Epoch 8 / 25) train acc: 0.834000; val_acc: 0.278000\n",
      "(Epoch 9 / 25) train acc: 0.900000; val_acc: 0.274000\n",
      "(Epoch 10 / 25) train acc: 0.874000; val_acc: 0.282000\n",
      "(Epoch 11 / 25) train acc: 0.932000; val_acc: 0.291000\n",
      "(Epoch 12 / 25) train acc: 0.956000; val_acc: 0.277000\n",
      "(Epoch 13 / 25) train acc: 0.950000; val_acc: 0.288000\n",
      "(Epoch 14 / 25) train acc: 0.958000; val_acc: 0.287000\n",
      "(Epoch 15 / 25) train acc: 0.986000; val_acc: 0.287000\n",
      "(Epoch 16 / 25) train acc: 0.968000; val_acc: 0.277000\n",
      "(Epoch 17 / 25) train acc: 0.988000; val_acc: 0.278000\n",
      "(Epoch 18 / 25) train acc: 0.984000; val_acc: 0.294000\n",
      "(Epoch 19 / 25) train acc: 0.980000; val_acc: 0.294000\n",
      "(Epoch 20 / 25) train acc: 0.984000; val_acc: 0.284000\n",
      "(Iteration 101 / 125) loss: 0.072035\n",
      "(Epoch 21 / 25) train acc: 0.976000; val_acc: 0.283000\n",
      "(Epoch 22 / 25) train acc: 0.992000; val_acc: 0.283000\n",
      "(Epoch 23 / 25) train acc: 0.964000; val_acc: 0.275000\n",
      "(Epoch 24 / 25) train acc: 0.950000; val_acc: 0.299000\n",
      "(Epoch 25 / 25) train acc: 0.966000; val_acc: 0.306000\n",
      "0.5\n",
      "(Iteration 1 / 125) loss: 7.341516\n",
      "(Epoch 0 / 25) train acc: 0.214000; val_acc: 0.182000\n",
      "(Epoch 1 / 25) train acc: 0.334000; val_acc: 0.227000\n",
      "(Epoch 2 / 25) train acc: 0.492000; val_acc: 0.272000\n",
      "(Epoch 3 / 25) train acc: 0.554000; val_acc: 0.269000\n",
      "(Epoch 4 / 25) train acc: 0.638000; val_acc: 0.254000\n",
      "(Epoch 5 / 25) train acc: 0.700000; val_acc: 0.286000\n",
      "(Epoch 6 / 25) train acc: 0.724000; val_acc: 0.262000\n",
      "(Epoch 7 / 25) train acc: 0.754000; val_acc: 0.292000\n",
      "(Epoch 8 / 25) train acc: 0.800000; val_acc: 0.291000\n",
      "(Epoch 9 / 25) train acc: 0.860000; val_acc: 0.297000\n",
      "(Epoch 10 / 25) train acc: 0.854000; val_acc: 0.310000\n",
      "(Epoch 11 / 25) train acc: 0.888000; val_acc: 0.301000\n",
      "(Epoch 12 / 25) train acc: 0.864000; val_acc: 0.326000\n",
      "(Epoch 13 / 25) train acc: 0.906000; val_acc: 0.313000\n",
      "(Epoch 14 / 25) train acc: 0.908000; val_acc: 0.312000\n",
      "(Epoch 15 / 25) train acc: 0.920000; val_acc: 0.311000\n",
      "(Epoch 16 / 25) train acc: 0.944000; val_acc: 0.314000\n",
      "(Epoch 17 / 25) train acc: 0.940000; val_acc: 0.321000\n",
      "(Epoch 18 / 25) train acc: 0.920000; val_acc: 0.292000\n",
      "(Epoch 19 / 25) train acc: 0.962000; val_acc: 0.302000\n",
      "(Epoch 20 / 25) train acc: 0.960000; val_acc: 0.313000\n",
      "(Iteration 101 / 125) loss: 0.849095\n",
      "(Epoch 21 / 25) train acc: 0.956000; val_acc: 0.308000\n",
      "(Epoch 22 / 25) train acc: 0.972000; val_acc: 0.311000\n",
      "(Epoch 23 / 25) train acc: 0.940000; val_acc: 0.289000\n",
      "(Epoch 24 / 25) train acc: 0.980000; val_acc: 0.296000\n",
      "(Epoch 25 / 25) train acc: 0.974000; val_acc: 0.304000\n",
      "0.75\n",
      "(Iteration 1 / 125) loss: 4.864435\n",
      "(Epoch 0 / 25) train acc: 0.226000; val_acc: 0.201000\n",
      "(Epoch 1 / 25) train acc: 0.366000; val_acc: 0.237000\n",
      "(Epoch 2 / 25) train acc: 0.454000; val_acc: 0.253000\n",
      "(Epoch 3 / 25) train acc: 0.554000; val_acc: 0.290000\n",
      "(Epoch 4 / 25) train acc: 0.590000; val_acc: 0.319000\n",
      "(Epoch 5 / 25) train acc: 0.592000; val_acc: 0.286000\n",
      "(Epoch 6 / 25) train acc: 0.654000; val_acc: 0.309000\n",
      "(Epoch 7 / 25) train acc: 0.686000; val_acc: 0.283000\n",
      "(Epoch 8 / 25) train acc: 0.702000; val_acc: 0.312000\n",
      "(Epoch 9 / 25) train acc: 0.728000; val_acc: 0.329000\n",
      "(Epoch 10 / 25) train acc: 0.744000; val_acc: 0.290000\n",
      "(Epoch 11 / 25) train acc: 0.770000; val_acc: 0.313000\n",
      "(Epoch 12 / 25) train acc: 0.826000; val_acc: 0.324000\n",
      "(Epoch 13 / 25) train acc: 0.828000; val_acc: 0.302000\n",
      "(Epoch 14 / 25) train acc: 0.858000; val_acc: 0.310000\n",
      "(Epoch 15 / 25) train acc: 0.820000; val_acc: 0.320000\n",
      "(Epoch 16 / 25) train acc: 0.868000; val_acc: 0.332000\n",
      "(Epoch 17 / 25) train acc: 0.880000; val_acc: 0.339000\n",
      "(Epoch 18 / 25) train acc: 0.882000; val_acc: 0.317000\n",
      "(Epoch 19 / 25) train acc: 0.912000; val_acc: 0.342000\n",
      "(Epoch 20 / 25) train acc: 0.908000; val_acc: 0.335000\n",
      "(Iteration 101 / 125) loss: 1.529955\n",
      "(Epoch 21 / 25) train acc: 0.924000; val_acc: 0.332000\n",
      "(Epoch 22 / 25) train acc: 0.922000; val_acc: 0.331000\n",
      "(Epoch 23 / 25) train acc: 0.934000; val_acc: 0.312000\n",
      "(Epoch 24 / 25) train acc: 0.930000; val_acc: 0.320000\n",
      "(Epoch 25 / 25) train acc: 0.940000; val_acc: 0.325000\n"
     ]
    }
   ],
   "source": [
    "# Train two identical nets, one with dropout and one without\n",
    "\n",
    "num_train = 500\n",
    "small_data = {\n",
    "  'X_train': data['X_train'][:num_train],\n",
    "  'y_train': data['y_train'][:num_train],\n",
    "  'X_val': data['X_val'],\n",
    "  'y_val': data['y_val'],\n",
    "}\n",
    "\n",
    "solvers = {}\n",
    "dropout_choices = [0, 0.5, 0.75]\n",
    "for dropout in dropout_choices:\n",
    "  model = FullyConnectedNet([500], dropout=dropout)\n",
    "  print dropout\n",
    "\n",
    "  solver = Solver(model, small_data,\n",
    "                  num_epochs=25, batch_size=100,\n",
    "                  update_rule='adam',\n",
    "                  optim_config={\n",
    "                    'learning_rate': 5e-4,\n",
    "                  },\n",
    "                  verbose=True, print_every=100)\n",
    "  solver.train()\n",
    "  solvers[dropout] = solver"
   ]
  },
  {
   "cell_type": "code",
   "execution_count": 83,
   "metadata": {
    "collapsed": false
   },
   "outputs": [
    {
     "data": {
      "image/png": "[encoded data removed]",
      "text/plain": [
       "<matplotlib.figure.Figure at 0x10e76db50>"
      ]
     },
     "metadata": {},
     "output_type": "display_data"
    }
   ],
   "source": [
    "# Plot train and validation accuracies of the two models\n",
    "\n",
    "train_accs = []\n",
    "val_accs = []\n",
    "for dropout in dropout_choices:\n",
    "  solver = solvers[dropout]\n",
    "  train_accs.append(solver.train_acc_history[-1])\n",
    "  val_accs.append(solver.val_acc_history[-1])\n",
    "\n",
    "plt.subplot(3, 1, 1)\n",
    "for dropout in dropout_choices:\n",
    "  plt.plot(solvers[dropout].train_acc_history, 'o', label='%.2f dropout' % dropout)\n",
    "plt.title('Train accuracy')\n",
    "plt.xlabel('Epoch')\n",
    "plt.ylabel('Accuracy')\n",
    "plt.legend(ncol=2, loc='lower right')\n",
    "  \n",
    "plt.subplot(3, 1, 2)\n",
    "for dropout in dropout_choices:\n",
    "  plt.plot(solvers[dropout].val_acc_history, 'o', label='%.2f dropout' % dropout)\n",
    "plt.title('Val accuracy')\n",
    "plt.xlabel('Epoch')\n",
    "plt.ylabel('Accuracy')\n",
    "plt.legend(ncol=2, loc='lower right')\n",
    "\n",
    "plt.gcf().set_size_inches(15, 15)\n",
    "plt.show()"
   ]
  },
  {
   "cell_type": "markdown",
   "metadata": {},
   "source": [
    "# Question\n",
    "Explain what you see in this experiment. What does it suggest about dropout?"
   ]
  },
  {
   "cell_type": "markdown",
   "metadata": {},
   "source": [
    "# Answer\n",
    "Dropout works."
   ]
  }
 ],
 "metadata": {
  "kernelspec": {
   "display_name": "Python 2",
   "language": "python",
   "name": "python2"
  },
  "language_info": {
   "codemirror_mode": {
    "name": "ipython",
    "version": 2
   },
   "file_extension": ".py",
   "mimetype": "text/x-python",
   "name": "python",
   "nbconvert_exporter": "python",
   "pygments_lexer": "ipython2",
   "version": "2.7.13"
  }
 },
 "nbformat": 4,
 "nbformat_minor": 0
}
